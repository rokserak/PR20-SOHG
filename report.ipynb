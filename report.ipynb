{
 "cells": [
  {
   "cell_type": "markdown",
   "metadata": {},
   "source": [
    "# PROJEKT: Vpliv svetovnega uvoza/izvoza na stroške Slovenskih gospodinjstev"
   ]
  },
  {
   "cell_type": "markdown",
   "metadata": {},
   "source": [
    "## SKUPINA"
   ]
  },
  {
   "cell_type": "markdown",
   "metadata": {},
   "source": [
    "* Rok Šerak, vodja\n",
    "* Žan Ostrožnik\n",
    "* Gašper Habjan\n",
    "* Miha Gošte"
   ]
  },
  {
   "cell_type": "markdown",
   "metadata": {},
   "source": [
    "## PODATKI"
   ]
  },
  {
   "cell_type": "markdown",
   "metadata": {},
   "source": [
    "Na začetku smo si izbrali dve podatkovni zbirki (Uvoz/izvoz podjetij in Izdatki gospodinjstev). Posledično smo jima bili primorani dodati še eno dodatno (Inflacija).\n",
    "* [Največji izvozniki in uvozniki glede na področje dejavnosti in vrednost njihove blagovne menjave](https://podatki.gov.si/dataset/surs2430102s?fbclid=IwAR30FKYdkMiSjjpGv1kA6URPq4lv1V48_U4bN29L2eS7rfGhBBxWtAL_QYA)\n",
    "* [Izdatki gospodinjstev za končno potrošnjo po vrsti proizvodov in namenu, Slovenija](https://podatki.gov.si/dataset/surs0301940s/resource/d34d6fc2-ef57-463b-9a4c-dfc2a9cbafa4)\n",
    "* [Indeksi cen življenjskih potrebščin po klasifikaciji ECOICOP, Slovenija, mesečno](https://pxweb.stat.si/SiStatDb/pxweb/sl/20_Ekonomsko/20_Ekonomsko__04_cene__04006_ICZP/0400600S.px/)\n",
    "\n",
    "Pri pripravljanju podatkov smo večinoma obdržali vse atribute. Seznam vseh atributov se nahaja v osnutku. Nekaj sprememb smo opravili pri prvoomenjeni podatkovni zbirki, saj je bilo navedenih nekaj nepotrebnih podatkov oz. podatkov, ki jih nismo potrebovali. Za delo smo večinoma uporabljali Python knjižnico *pandas*.\n",
    "<br>\n",
    "\n",
    "#### Podatkovna zbirka Uvoz/izvoz podjetij\n",
    "V tej zbirki imamo vrednostne podatke uvozov/izvozov Slovenskih podjetij iz različnih panog. Vrednosti so v Evrih, panoge pa so razdeljene v 6 obsežnejših kategorij. Podatki prikazujejo, koliko smo uvozili/izvozili v države EU, v države izven EU in pa tudi za vse skupaj združeno. Podatki so zbrani po posameznih letih, in sicer od leta 2008 do vključno leta 2018. Razdeljeni so tudi po 5 najboljših, 10 najboljših pa vse do 1000 najboljših podjetij, kjer smo lahko tudi primerjali delež uvoza/izvoza 5 najbolj uspešnih podjetih v primerjavi z ostalimi.\n",
    "<br>\n",
    "\n",
    "#### Podatkovna zbirka Izdatki gospodinjstev\n",
    "V tej zbirki imamo podatke o potrošnji Slovenskih gospodinjstev. Potrošnje so zabeležene za različne panoge oz. kategorije. Teh je nekaj več kot 10 (zdravstvo, prevoz, hrana,...). Podatki so zbrani po posameznih letih, in sicer od leta 1995 do vključno leta 2018. Tukaj bomo spoznali nekaj že znanih in nekaj še nepoznanih zanimivih dejstev.\n",
    "<br>\n",
    "\n",
    "#### Podatkovna zbirka Inflacija\n",
    "Inflacija nam pove rast cen izdelkov in storitev za določeno časovno obdobje. To podatkovno zbirko smo pridružili kasneje. Ugotovili smo, da za realno primerjanje potrošnje v panogah med leti, potrebujemo podatek o inflaciji."
   ]
  },
  {
   "cell_type": "markdown",
   "metadata": {},
   "source": [
    "## UVOD IN PROBLEM"
   ]
  },
  {
   "cell_type": "markdown",
   "metadata": {},
   "source": [
    "Pogledali si bomo, kaj se je dogajalo v približno zadnjih desetih letih. Videli bomo, iz katerih panog se je uvažalo/izvažalo največ oz. najmanj ter tudi kam se je uvažalo/izvažalo. Poudarek bo tudi na tem, katerim panogam smo Slovenci oz. Slovenska gospodinjstva namenili največ oz. najmanj denarja. Tekom analize smo nekako poizkusili povezati obe podatkovni zbirki in ugotoviti nekaj, kar na prvi pogled morda ni znano. **DOPOLNI !!!**"
   ]
  },
  {
   "cell_type": "markdown",
   "metadata": {},
   "source": [
    "## ANALIZE IN UGOTOVITVE"
   ]
  },
  {
   "cell_type": "markdown",
   "metadata": {},
   "source": [
    "#### Primer 1\n",
    "Na spodnji vizualizaciji je prikazana rast uvoza, izvoza ter inflacije na našem trgu. Inflacija oz. rast cen se je vseskozi vzpenjala. Po letu 2008 se je zgodila gospodarska kriza in opazimo, da so se uvozi in izvozi bistveno manjši. Po koncu te krize so se uvozi in izvozi začeli stopnjevati vse do leta 2018, do kamor so zabeleženi podatki. Uvoz ter izvoz sta sicer izražena kot vrednost v evrih."
   ]
  },
  {
   "cell_type": "markdown",
   "metadata": {},
   "source": [
    "![title](grafi2/4_40.png)"
   ]
  },
  {
   "cell_type": "markdown",
   "metadata": {},
   "source": [
    "#### Primer 2\n",
    "Na spodnji vizualizaciji imamo prikazane podatke s podatkovne zbirke Uvoz/izvoz podjetij. Graf prikazuje vrednost izvoza raznih panog. Podatki so zbrani glede na vse države oz. podjetja skupaj (torej znotraj EU in zunaj EU). Kategorije panog v podatkovni zbirki so štiri in še ena dodatna kategorija, ki skupaj pokrije 9 ostalih oz. neznanih panog. Ugotovimo, da proizvodnja (angl. manufacturing) pokrije največji delež izvoza. Temu sledi izvoz trgovin na debelo in na drobno ter popravilo vozil. Izvoz je izražen kot vrednost v evrih. Opazimo še, da so dejavnosti oz. panoge beležile padec ob gospodarski krizi, vendar po krizi ponovno beležijo rast."
   ]
  },
  {
   "cell_type": "markdown",
   "metadata": {},
   "source": [
    "![title](grafi2/8.png)"
   ]
  },
  {
   "cell_type": "markdown",
   "metadata": {},
   "source": [
    "Spodnja vizualizacija je podobna kot zgornja, le da gre za uvoz. Pri uvozu prednjačita 2 panogi. Na prvem mestu so uvozi trgovin na debelo in na drobno ter popravilo vozil. Temu sledi panoga proizvodnje. Ti dve kategoriji panog sta okrog leta 2016 doživela manjši padec, vendar se je število uvozov kmalu zatem začelo nazaj povečevati."
   ]
  },
  {
   "cell_type": "markdown",
   "metadata": {},
   "source": [
    "![title](grafi2/7.png)"
   ]
  },
  {
   "cell_type": "markdown",
   "metadata": {},
   "source": [
    "#### Primer 3\n",
    "Spodnja vizualizacija prikazuje porabo Slovenskih gospodinjstev po posameznih panogah. Podatki so zbrani glede na vsa leta skupaj. Kot zanimivost smo porabo prikazali z upoštevajočo inflacijo in tudi brez nje. Zaradi inflacije je bilo dejansko zapravljenega več denarja. Če pogledamo kategorije, vidimo, da so Slovenska gospodinjstva skozi leta največ denarja namenila hrani, brezalkohilnim pijačam, prevozu ter rekreaciji in kulturi. Dejansko so te 3 večje kategorije tiste, v katere je bilo nadpovprečno vloženega denarja."
   ]
  },
  {
   "cell_type": "markdown",
   "metadata": {},
   "source": [
    "![title](grafi2/2.png)"
   ]
  },
  {
   "cell_type": "markdown",
   "metadata": {},
   "source": [
    "Ker na zgornji vizualizaciji prednjačijo 3 panoge, so na spodnji prikazane vse ostale. Tako lahko ostale kategorije lažje primerjamo med sabo. Tistim trem kategorijam nato nekoliko daleč zadaj sledijo vlaganja v stanovanja, plačevanje vode in električne energije. Slovenska gospodinjstva najmanj denarja namenjajo izobraževanju. To je zaradi tega, ker je izobraževanje v Sloveniji v veliki meri oz. do določene mere brezplačno."
   ]
  },
  {
   "cell_type": "markdown",
   "metadata": {},
   "source": [
    "![title](grafi2/1.png)"
   ]
  },
  {
   "cell_type": "markdown",
   "metadata": {},
   "source": [
    "#### Primer 4\n",
    "Izvedli smo algoritem hierarhično gručenje. Pred dejansko izvedbo, smo najprej izdelali primerno matriko, ki vsebuje kategorije panog in njihove podatke o uvozih/izvozih. Neznanih vrednosti ni bilo, saj so zabeleženi vsi potrebni podatki. Pri tem smo za mero razdalje izbrali Manhattansko razdaljo (\"cityblock\"), ker se nam je zdela še najprimernejša, saj nimamo manjkajočih vrednosti. Spodaj sta izrisana dendrograma. Pri izrisu smo za metodo povezovanja izbrali povprečno razdaljo (\"average linkage\"), kjer gre za povprečno razdaljo med vsemi pari točk.\n",
    "<br><br>\n",
    "Glede na prvi dendrogram imamo 2 večji različni skupini kategorij panog, razdeljene glede na število uvozov. Za izbrane analizirane kategorije panog ugotovimo, da sta si po številu uvozov med seboj podobni proizvodnja in trgovine na debelo, na drobno ter popravilo vozil. To smo v bistvu lahko zasledili že v prejšnjih vizualizacijah zgoraj."
   ]
  },
  {
   "cell_type": "markdown",
   "metadata": {},
   "source": [
    "![title](grafi2/5.png)"
   ]
  },
  {
   "cell_type": "markdown",
   "metadata": {},
   "source": [
    "Za naslednji dendrogram je postopek popolnoma enak. Tukaj imamo ponovno 2 večji različni skupini kategorij panog, razdeljene glede na število izvozov. Za izbrane analizirane kategorije panog ugotovimo, da je tokrat razred zase proizvodnja, ostale kategorije pa so si med seboj dokaj podobne. Prav tako smo tudi to lahko zasledili že v prejšnjih vizualizacijah zgoraj."
   ]
  },
  {
   "cell_type": "markdown",
   "metadata": {},
   "source": [
    "![title](grafi2/6.png)"
   ]
  },
  {
   "cell_type": "markdown",
   "metadata": {},
   "source": [
    "#### Primer 5\n",
    "Podobno smo hierarhično gručenje izvedli na podatkovni zbirki Izdatki gospodinjstev. Gre za povsem enako metodo kot pri zgornjih dveh dendrogramih. Razlika je v tem, da smo tu za mero razdalje izbrali Kosinusno razdaljo (\"cosine\"). Pri ostalih merah je bil dendrogram preveč sploščen, pri tej meri razdalje pa je dobljen dendrogram precej boljši.\n",
    "<br><br>\n",
    "Dobili smo 3 večje skupine glede na količino zapravljenega denarja s strani Slovenskih gospodinjstev. Znotraj večjih posameznih skupin imamo lahko še nekaj manjših, kot lahko vidimo pri spodnjem dendrogramu. Največ denarja smo zapravili za prevoz ter hrano in brezalkoholne pijače, zato sta si ti dve panogi podobni. "
   ]
  },
  {
   "cell_type": "markdown",
   "metadata": {},
   "source": [
    "![title](grafi2/3.png)"
   ]
  },
  {
   "cell_type": "markdown",
   "metadata": {},
   "source": [
    "## ZAKLJUČEK"
   ]
  },
  {
   "cell_type": "markdown",
   "metadata": {},
   "source": [
    "Ostale opravljene vizualizacije oz. analize se nahajajo v datoteki [koda.ipynb](koda.ipynb) skupaj s kodo. Prav tako se koda zgoraj prikazanih vizualizacij nahaja v isti datoteki. Kode v poročilo nismo želeli vključiti, saj bi bilo vse skupaj preobsežno. Poudarek je na dobljenih vizualizacijah.\n",
    "<br><br>\n",
    "Delo v skupini je potekalo organizirano in sproščeno. Načeloma smo delali sproti, delo pa smo si razdelili. Tako je vsak član prispeval približno enak delež k skupnemu projektu. Za komunikacijo smo uporabljali Discord, za upravljanje z datotekami pa GitHub in Dropbox.\n",
    "<br><br>\n",
    "V projektu smo uporabljali pristope, ki smo jih obravnavali na vajih in pri domačih nalogah. Izbrali smo več podatkovnih zbirk, saj se nam je zdel izziv le-te med seboj nekako smiselno povezati. Iz opravljenih analiz smo spoznali nekaj zanimiv dejstev, ki niso vidna na prvi pogled. To pa je tudi cilj podatkovnega rudarjenja."
   ]
  }
 ],
 "metadata": {
  "kernelspec": {
   "display_name": "Python 3",
   "language": "python",
   "name": "python3"
  },
  "language_info": {
   "codemirror_mode": {
    "name": "ipython",
    "version": 3
   },
   "file_extension": ".py",
   "mimetype": "text/x-python",
   "name": "python",
   "nbconvert_exporter": "python",
   "pygments_lexer": "ipython3",
   "version": "3.7.4"
  }
 },
 "nbformat": 4,
 "nbformat_minor": 2
}
