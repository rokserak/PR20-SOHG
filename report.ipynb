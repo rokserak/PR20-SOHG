{
 "cells": [
  {
   "cell_type": "markdown",
   "metadata": {},
   "source": [
    "# Projekt: Vpliv svetovnega uvoza/izvoza na stroške Slovenskih gospodinjstev"
   ]
  },
  {
   "cell_type": "markdown",
   "metadata": {},
   "source": [
    "## Skupina"
   ]
  },
  {
   "cell_type": "markdown",
   "metadata": {},
   "source": [
    "* Rok Šerak, vodja\n",
    "* Žan Ostrožnik\n",
    "* Gašper Habjan\n",
    "* Miha Gošte"
   ]
  },
  {
   "cell_type": "markdown",
   "metadata": {},
   "source": [
    "## Podatki"
   ]
  },
  {
   "cell_type": "markdown",
   "metadata": {},
   "source": [
    "Na začetku smo si izbrali dve podatkovni zbirki (Uvoz/izvoz podjetij in Izdatki gospodinjstev). Posledično smo jima bili primorani dodati še eno dodatno (Inflacija).\n",
    "* [Največji izvozniki in uvozniki glede na področje dejavnosti in vrednost njihove blagovne menjave](https://podatki.gov.si/dataset/surs2430102s?fbclid=IwAR30FKYdkMiSjjpGv1kA6URPq4lv1V48_U4bN29L2eS7rfGhBBxWtAL_QYA)\n",
    "* [Izdatki gospodinjstev za končno potrošnjo po vrsti proizvodov in namenu, Slovenija](https://podatki.gov.si/dataset/surs0301940s/resource/d34d6fc2-ef57-463b-9a4c-dfc2a9cbafa4)\n",
    "* [Indeksi cen življenjskih potrebščin po klasifikaciji ECOICOP, Slovenija, mesečno](https://pxweb.stat.si/SiStatDb/pxweb/sl/20_Ekonomsko/20_Ekonomsko__04_cene__04006_ICZP/0400600S.px/)\n",
    "\n",
    "Pri pripravljanju podatkov smo večinoma obdržali vse atribute. Seznam vseh atributov se nahaja v osnutku. Nekaj sprememb smo opravili pri prvoomenjeni podatkovni zbirki, saj je bilo navedenih nekaj nepotrebnih podatkov oz. podatkov, ki jih nismo potrebovali. Za delo smo večinoma uporabljali Python knjižnico *pandas*.\n",
    "<br>\n",
    "\n",
    "#### Podatkovna zbirka Uvoz/izvoz podjetij\n",
    "V tej zbirki imamo vrednostne podatke uvozov/izvozov Slovenskih podjetij iz različnih panog. Vrednosti so v Evrih, panoge pa so razdeljene v 6 obsežnejših kategorij. Podatki prikazujejo, koliko smo uvozili/izvozili v države EU, v države izven EU in pa tudi za vse skupaj združeno. Podatki so zbrani po posameznih letih, in sicer od leta 2008 dalje. Razdeljeni so tudi po 5 najboljših, 10 najboljših pa vse do 1000 najboljših podjetij, kjer smo lahko tudi primerjali delež uvoza/izvoza 5 najbolj uspešnih podjetih v primerjavi z ostalimi.\n",
    "<br>\n",
    "\n",
    "#### Podatkovna zbirka Izdatki gospodinjstev\n",
    "V tej zbirki imamo podatke o potrošnji Slovenskih gospodinjstev. Potrošnje so zabeležene za različne panoge oz. kategorije. Teh je nekaj več kot 10 (zdravstvo, prevoz, hrana,...). Podatki so zbrani po posameznih letih, in sicer od leta 2008 dalje. Tukaj bomo spoznali nekaj že znanih in nekaj še nepoznanih zanimivih dejstev.\n",
    "<br>\n",
    "\n",
    "#### Podatkovna zbirka Inflacija\n",
    "Inflacija nam pove rast cen izdelkov in storitev za določeno časovno obdobje. To podatkovno zbirko smo pridružili kasneje. Ugotovili smo, da za realno primerjanje potrošnje v panogah med leti, potrebujemo podatek o inflaciji.\n",
    "\n",
    "<br>\n"
   ]
  },
  {
   "cell_type": "markdown",
   "metadata": {},
   "source": [
    "## Uvod in problem"
   ]
  },
  {
   "cell_type": "markdown",
   "metadata": {},
   "source": [
    "Pogledali si bomo, kaj se je dogajalo v približno zadnjih desetih letih. Videli bomo, iz katerih panog se je uvažalo/izvažalo največ oz. najmanj ter tudi kam se je uvažalo/izvažalo. Poudarek bo tudi na tem, katerim panogam smo Slovenci oz. Slovenska gospodinjstva namenili največ oz. najmanj denarja. Tekom analize smo nekako poizkusili povezati obe podatkovni zbirki in ugotoviti nekaj, kar na prvi pogled morda ni znano. **DOPOLNI !!!**"
   ]
  },
  {
   "cell_type": "markdown",
   "metadata": {},
   "source": [
    "## Analize"
   ]
  },
  {
   "cell_type": "markdown",
   "metadata": {},
   "source": []
  },
  {
   "cell_type": "markdown",
   "metadata": {},
   "source": [
    "## Zaključek in ugotovitve"
   ]
  },
  {
   "cell_type": "markdown",
   "metadata": {},
   "source": []
  }
 ],
 "metadata": {
  "kernelspec": {
   "display_name": "Python 3",
   "language": "python",
   "name": "python3"
  },
  "language_info": {
   "codemirror_mode": {
    "name": "ipython",
    "version": 3
   },
   "file_extension": ".py",
   "mimetype": "text/x-python",
   "name": "python",
   "nbconvert_exporter": "python",
   "pygments_lexer": "ipython3",
   "version": "3.7.4"
  }
 },
 "nbformat": 4,
 "nbformat_minor": 2
}
